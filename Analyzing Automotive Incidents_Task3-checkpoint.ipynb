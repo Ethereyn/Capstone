{
 "cells": [
  {
   "cell_type": "markdown",
   "id": "5faf551c",
   "metadata": {},
   "source": [
    "# Analyzing Automotive Incidents"
   ]
  },
  {
   "cell_type": "markdown",
   "id": "53147ad2",
   "metadata": {},
   "source": [
    "Within this report we will take a closer look at a more localized dataset of automobile incidents occurring with pedestrians.  From the report we would like to as to what traits and conditions that accidents seem to happen most often. We will start by looking at a breakdown, per year, to see if the issue is something that is reduced from year to year as changes in the automotive industry are applied. From there we will dig in a little more in daily conditions to find out if accidents are more likely to happen depending on the time of day, or what the weather conditions may be."
   ]
  },
  {
   "cell_type": "code",
   "execution_count": 22,
   "id": "08e6c08f",
   "metadata": {},
   "outputs": [],
   "source": [
    "import pandas as pd\n",
    "import numpy as np\n",
    "import seaborn as sns\n",
    "import matplotlib.pyplot as plt"
   ]
  },
  {
   "cell_type": "code",
   "execution_count": 2,
   "id": "21c8a036",
   "metadata": {
    "scrolled": true
   },
   "outputs": [
    {
     "data": {
      "text/html": [
       "<div>\n",
       "<style scoped>\n",
       "    .dataframe tbody tr th:only-of-type {\n",
       "        vertical-align: middle;\n",
       "    }\n",
       "\n",
       "    .dataframe tbody tr th {\n",
       "        vertical-align: top;\n",
       "    }\n",
       "\n",
       "    .dataframe thead th {\n",
       "        text-align: right;\n",
       "    }\n",
       "</style>\n",
       "<table border=\"1\" class=\"dataframe\">\n",
       "  <thead>\n",
       "    <tr style=\"text-align: right;\">\n",
       "      <th></th>\n",
       "      <th>Crash Year</th>\n",
       "      <th>Crash Month</th>\n",
       "      <th>Crash Day</th>\n",
       "      <th>Time of Day</th>\n",
       "      <th>Day of Week</th>\n",
       "      <th>City or Township</th>\n",
       "      <th>Crash: Intersection</th>\n",
       "      <th>Crash: Hit-and-Run</th>\n",
       "      <th>Lighting Conditions</th>\n",
       "      <th>Weather Conditions (2016+)</th>\n",
       "      <th>Speed Limit at Crash Site</th>\n",
       "      <th>Worst Injury in Crash</th>\n",
       "      <th>Party Type</th>\n",
       "      <th>Person Age</th>\n",
       "      <th>Person Gender</th>\n",
       "    </tr>\n",
       "  </thead>\n",
       "  <tbody>\n",
       "    <tr>\n",
       "      <th>0</th>\n",
       "      <td>2018</td>\n",
       "      <td>February</td>\n",
       "      <td>1</td>\n",
       "      <td>9:00 AM - 10:00 AM</td>\n",
       "      <td>Thursday</td>\n",
       "      <td>Wayne County: Detroit</td>\n",
       "      <td>Not intersection crash</td>\n",
       "      <td>Hit-and-run</td>\n",
       "      <td>Daylight</td>\n",
       "      <td>Clear</td>\n",
       "      <td>35</td>\n",
       "      <td>Suspected minor injury (B)</td>\n",
       "      <td>Motor vehicle driver</td>\n",
       "      <td>DOB invalid</td>\n",
       "      <td>Uncoded &amp; errors</td>\n",
       "    </tr>\n",
       "    <tr>\n",
       "      <th>1</th>\n",
       "      <td>2018</td>\n",
       "      <td>February</td>\n",
       "      <td>1</td>\n",
       "      <td>7:00 PM - 8:00 PM</td>\n",
       "      <td>Thursday</td>\n",
       "      <td>Wayne County: Detroit</td>\n",
       "      <td>Not intersection crash</td>\n",
       "      <td>Hit-and-run</td>\n",
       "      <td>Dark lighted</td>\n",
       "      <td>Clear</td>\n",
       "      <td>30</td>\n",
       "      <td>Suspected serious injury (A)</td>\n",
       "      <td>Motor vehicle driver</td>\n",
       "      <td>44</td>\n",
       "      <td>Female</td>\n",
       "    </tr>\n",
       "    <tr>\n",
       "      <th>2</th>\n",
       "      <td>2018</td>\n",
       "      <td>February</td>\n",
       "      <td>1</td>\n",
       "      <td>11:00 AM - 12:00 noon</td>\n",
       "      <td>Thursday</td>\n",
       "      <td>Wayne County: Detroit</td>\n",
       "      <td>Intersection crash</td>\n",
       "      <td>Hit-and-run</td>\n",
       "      <td>Daylight</td>\n",
       "      <td>Cloudy</td>\n",
       "      <td>30</td>\n",
       "      <td>Possible injury (C)</td>\n",
       "      <td>Motor vehicle driver</td>\n",
       "      <td>DOB invalid</td>\n",
       "      <td>Uncoded &amp; errors</td>\n",
       "    </tr>\n",
       "    <tr>\n",
       "      <th>3</th>\n",
       "      <td>2018</td>\n",
       "      <td>February</td>\n",
       "      <td>1</td>\n",
       "      <td>6:00 PM - 7:00 PM</td>\n",
       "      <td>Thursday</td>\n",
       "      <td>Wayne County: Detroit</td>\n",
       "      <td>Intersection crash</td>\n",
       "      <td>Hit-and-run</td>\n",
       "      <td>Dark lighted</td>\n",
       "      <td>Clear</td>\n",
       "      <td>30</td>\n",
       "      <td>Suspected minor injury (B)</td>\n",
       "      <td>Motor vehicle driver</td>\n",
       "      <td>DOB invalid</td>\n",
       "      <td>Uncoded &amp; errors</td>\n",
       "    </tr>\n",
       "    <tr>\n",
       "      <th>4</th>\n",
       "      <td>2018</td>\n",
       "      <td>March</td>\n",
       "      <td>1</td>\n",
       "      <td>2:00 PM - 3:00 PM</td>\n",
       "      <td>Thursday</td>\n",
       "      <td>Wayne County: Detroit</td>\n",
       "      <td>Not intersection crash</td>\n",
       "      <td>Hit-and-run</td>\n",
       "      <td>Daylight</td>\n",
       "      <td>Snow</td>\n",
       "      <td>25</td>\n",
       "      <td>No injury (O)</td>\n",
       "      <td>Motor vehicle driver</td>\n",
       "      <td>DOB invalid</td>\n",
       "      <td>Uncoded &amp; errors</td>\n",
       "    </tr>\n",
       "  </tbody>\n",
       "</table>\n",
       "</div>"
      ],
      "text/plain": [
       "   Crash Year Crash Month  Crash Day            Time of Day Day of Week  \\\n",
       "0        2018    February          1     9:00 AM - 10:00 AM    Thursday   \n",
       "1        2018    February          1      7:00 PM - 8:00 PM    Thursday   \n",
       "2        2018    February          1  11:00 AM - 12:00 noon    Thursday   \n",
       "3        2018    February          1      6:00 PM - 7:00 PM    Thursday   \n",
       "4        2018       March          1      2:00 PM - 3:00 PM    Thursday   \n",
       "\n",
       "        City or Township     Crash: Intersection Crash: Hit-and-Run  \\\n",
       "0  Wayne County: Detroit  Not intersection crash        Hit-and-run   \n",
       "1  Wayne County: Detroit  Not intersection crash        Hit-and-run   \n",
       "2  Wayne County: Detroit      Intersection crash        Hit-and-run   \n",
       "3  Wayne County: Detroit      Intersection crash        Hit-and-run   \n",
       "4  Wayne County: Detroit  Not intersection crash        Hit-and-run   \n",
       "\n",
       "  Lighting Conditions Weather Conditions (2016+) Speed Limit at Crash Site  \\\n",
       "0            Daylight                      Clear                        35   \n",
       "1        Dark lighted                      Clear                        30   \n",
       "2            Daylight                     Cloudy                        30   \n",
       "3        Dark lighted                      Clear                        30   \n",
       "4            Daylight                       Snow                        25   \n",
       "\n",
       "          Worst Injury in Crash            Party Type   Person Age  \\\n",
       "0    Suspected minor injury (B)  Motor vehicle driver  DOB invalid   \n",
       "1  Suspected serious injury (A)  Motor vehicle driver           44   \n",
       "2           Possible injury (C)  Motor vehicle driver  DOB invalid   \n",
       "3    Suspected minor injury (B)  Motor vehicle driver  DOB invalid   \n",
       "4                 No injury (O)  Motor vehicle driver  DOB invalid   \n",
       "\n",
       "      Person Gender  \n",
       "0  Uncoded & errors  \n",
       "1            Female  \n",
       "2  Uncoded & errors  \n",
       "3  Uncoded & errors  \n",
       "4  Uncoded & errors  "
      ]
     },
     "execution_count": 2,
     "metadata": {},
     "output_type": "execute_result"
    }
   ],
   "source": [
    "df = pd. read_csv(\"ped_crashes.csv\")\n",
    "df.head()"
   ]
  },
  {
   "cell_type": "code",
   "execution_count": 3,
   "id": "7309e259",
   "metadata": {},
   "outputs": [],
   "source": [
    "# To start I will remove some of the unnecessary columns of information such as City or Township, Crash: Intersection, Gender, etc\n",
    "df.drop(['City or Township', 'Crash: Intersection', 'Party Type', 'Person Gender'], axis = 1, inplace = True)"
   ]
  },
  {
   "cell_type": "code",
   "execution_count": 4,
   "id": "9793e520",
   "metadata": {},
   "outputs": [
    {
     "data": {
      "text/html": [
       "<div>\n",
       "<style scoped>\n",
       "    .dataframe tbody tr th:only-of-type {\n",
       "        vertical-align: middle;\n",
       "    }\n",
       "\n",
       "    .dataframe tbody tr th {\n",
       "        vertical-align: top;\n",
       "    }\n",
       "\n",
       "    .dataframe thead th {\n",
       "        text-align: right;\n",
       "    }\n",
       "</style>\n",
       "<table border=\"1\" class=\"dataframe\">\n",
       "  <thead>\n",
       "    <tr style=\"text-align: right;\">\n",
       "      <th></th>\n",
       "      <th>Crash Year</th>\n",
       "      <th>Crash Month</th>\n",
       "      <th>Crash Day</th>\n",
       "      <th>Time of Day</th>\n",
       "      <th>Day of Week</th>\n",
       "      <th>Crash: Hit-and-Run</th>\n",
       "      <th>Lighting Conditions</th>\n",
       "      <th>Weather Conditions (2016+)</th>\n",
       "      <th>Speed Limit at Crash Site</th>\n",
       "      <th>Worst Injury in Crash</th>\n",
       "      <th>Person Age</th>\n",
       "    </tr>\n",
       "  </thead>\n",
       "  <tbody>\n",
       "    <tr>\n",
       "      <th>0</th>\n",
       "      <td>2018</td>\n",
       "      <td>February</td>\n",
       "      <td>1</td>\n",
       "      <td>9:00 AM - 10:00 AM</td>\n",
       "      <td>Thursday</td>\n",
       "      <td>Hit-and-run</td>\n",
       "      <td>Daylight</td>\n",
       "      <td>Clear</td>\n",
       "      <td>35</td>\n",
       "      <td>Suspected minor injury (B)</td>\n",
       "      <td>DOB invalid</td>\n",
       "    </tr>\n",
       "    <tr>\n",
       "      <th>1</th>\n",
       "      <td>2018</td>\n",
       "      <td>February</td>\n",
       "      <td>1</td>\n",
       "      <td>7:00 PM - 8:00 PM</td>\n",
       "      <td>Thursday</td>\n",
       "      <td>Hit-and-run</td>\n",
       "      <td>Dark lighted</td>\n",
       "      <td>Clear</td>\n",
       "      <td>30</td>\n",
       "      <td>Suspected serious injury (A)</td>\n",
       "      <td>44</td>\n",
       "    </tr>\n",
       "    <tr>\n",
       "      <th>2</th>\n",
       "      <td>2018</td>\n",
       "      <td>February</td>\n",
       "      <td>1</td>\n",
       "      <td>11:00 AM - 12:00 noon</td>\n",
       "      <td>Thursday</td>\n",
       "      <td>Hit-and-run</td>\n",
       "      <td>Daylight</td>\n",
       "      <td>Cloudy</td>\n",
       "      <td>30</td>\n",
       "      <td>Possible injury (C)</td>\n",
       "      <td>DOB invalid</td>\n",
       "    </tr>\n",
       "    <tr>\n",
       "      <th>3</th>\n",
       "      <td>2018</td>\n",
       "      <td>February</td>\n",
       "      <td>1</td>\n",
       "      <td>6:00 PM - 7:00 PM</td>\n",
       "      <td>Thursday</td>\n",
       "      <td>Hit-and-run</td>\n",
       "      <td>Dark lighted</td>\n",
       "      <td>Clear</td>\n",
       "      <td>30</td>\n",
       "      <td>Suspected minor injury (B)</td>\n",
       "      <td>DOB invalid</td>\n",
       "    </tr>\n",
       "    <tr>\n",
       "      <th>4</th>\n",
       "      <td>2018</td>\n",
       "      <td>March</td>\n",
       "      <td>1</td>\n",
       "      <td>2:00 PM - 3:00 PM</td>\n",
       "      <td>Thursday</td>\n",
       "      <td>Hit-and-run</td>\n",
       "      <td>Daylight</td>\n",
       "      <td>Snow</td>\n",
       "      <td>25</td>\n",
       "      <td>No injury (O)</td>\n",
       "      <td>DOB invalid</td>\n",
       "    </tr>\n",
       "  </tbody>\n",
       "</table>\n",
       "</div>"
      ],
      "text/plain": [
       "   Crash Year Crash Month  Crash Day            Time of Day Day of Week  \\\n",
       "0        2018    February          1     9:00 AM - 10:00 AM    Thursday   \n",
       "1        2018    February          1      7:00 PM - 8:00 PM    Thursday   \n",
       "2        2018    February          1  11:00 AM - 12:00 noon    Thursday   \n",
       "3        2018    February          1      6:00 PM - 7:00 PM    Thursday   \n",
       "4        2018       March          1      2:00 PM - 3:00 PM    Thursday   \n",
       "\n",
       "  Crash: Hit-and-Run Lighting Conditions Weather Conditions (2016+)  \\\n",
       "0        Hit-and-run            Daylight                      Clear   \n",
       "1        Hit-and-run        Dark lighted                      Clear   \n",
       "2        Hit-and-run            Daylight                     Cloudy   \n",
       "3        Hit-and-run        Dark lighted                      Clear   \n",
       "4        Hit-and-run            Daylight                       Snow   \n",
       "\n",
       "  Speed Limit at Crash Site         Worst Injury in Crash   Person Age  \n",
       "0                        35    Suspected minor injury (B)  DOB invalid  \n",
       "1                        30  Suspected serious injury (A)           44  \n",
       "2                        30           Possible injury (C)  DOB invalid  \n",
       "3                        30    Suspected minor injury (B)  DOB invalid  \n",
       "4                        25                 No injury (O)  DOB invalid  "
      ]
     },
     "execution_count": 4,
     "metadata": {},
     "output_type": "execute_result"
    }
   ],
   "source": [
    "df.head()"
   ]
  },
  {
   "cell_type": "code",
   "execution_count": 5,
   "id": "3e55d268",
   "metadata": {},
   "outputs": [
    {
     "data": {
      "image/png": "[encoded data removed]",
      "text/plain": [
       "<Figure size 1440x360 with 3 Axes>"
      ]
     },
     "metadata": {
      "needs_background": "light"
     },
     "output_type": "display_data"
    }
   ],
   "source": [
    "#Given the table above, we will gain some initial information.\n",
    "\n",
    "#Create a table of graph over Year, Day, and Time of Day\n",
    "fig, ax = plt.subplots(1, 3, figsize = (20, 5))\n",
    "\n",
    "#Year\n",
    "sns.set_palette(\"ch:s = .25,rot = -.25\",9)\n",
    "sns.countplot(x = df[\"Crash Year\"], ax = ax[0])\n",
    "ax[0].set(ylabel = '# of accidents')\n",
    "\n",
    "#Weekday\n",
    "days = [ 'Monday', 'Tuesday', 'Wednesday', 'Thursday', 'Friday', 'Saturday', 'Sunday']\n",
    "b=sns.countplot(x = df[\"Day of Week\"], order = days, ax = ax[1], palette = 'dark:salmon_r')\n",
    "b.set_xticklabels(b.get_xticklabels(), size = 9)\n",
    "ax[1].set(ylabel = '# of accidents')\n",
    "\n",
    "#Time of Day\n",
    "df['Time of Day'] = df['Time of Day'].str.replace('midnight','AM')\n",
    "df['Time of Day'] = df['Time of Day'].str.replace('noon','PM')\n",
    "\n",
    "df2 = pd.DataFrame(columns = ['Time'])\n",
    "df2['Time'] = df['Time of Day'].astype(str).str[0:8]\n",
    "df2.drop(df2[(df2['Time'] == 'Unknown')].index, inplace=True)\n",
    "\n",
    "df2['Time'] = pd.to_datetime(df2['Time']).dt.strftime('%H')\n",
    "sns.countplot(x = df2[\"Time\"].sort_values(), ax = ax[2], palette = 'magma')\n",
    "ax[2].set(ylabel = '# of accidents')\n",
    "textvar = fig.text(0, 0, '')"
   ]
  },
  {
   "cell_type": "markdown",
   "id": "25679676",
   "metadata": {},
   "source": [
    "Taking a look at the information above, we can see that as years have gone by, there hasn't been any considerable drop in incidents that are occuring.  However, in 2016 there was a decrease that slowly came back up in the following years.  Things like this could be due to a decrease in drivers or even pedestrians because of sickness or economical conditions at the time.\n",
    "\n",
    "Looking at the second graph, there isn't much difference in the number of accidents that are being caused on a day to day basis. Friday, does show a slight uptick that could probably be assumed from families getting out to celebrate the oncoming weekend.  \n",
    "Sunday does show a significant decrease in accidents that could be encouraged by different Sunday events, such as Church or families preparing for the soon-to-come workweek.\n",
    "\n",
    "And finally taking a look at the time of day in which these incidents are occuring, we can see that the peak of accidents occur around 18:00 or 6:00pm.  This could be due to workers being adjourned for the day and people starting their commute home.  It is also worth mentioning that at 7:00am there is also a spike in which accidents occur.  This could be the inverse of that 6:00pm issue, where workers are starting to make their way in for their workdays."
   ]
  },
  {
   "cell_type": "markdown",
   "id": "af0dcb6d",
   "metadata": {},
   "source": [
    "### Conditional elements of Accidents"
   ]
  },
  {
   "cell_type": "markdown",
   "id": "91279e99",
   "metadata": {},
   "source": [
    "##### Clean dataset for further investigation"
   ]
  },
  {
   "cell_type": "code",
   "execution_count": 6,
   "id": "b0ea9e6a",
   "metadata": {
    "scrolled": true
   },
   "outputs": [],
   "source": [
    "#Weather conditions are only recorded in years 2016 and later\n",
    "#I will also change the name of the column in Weather Conditions for ease of use, as well as only having information\n",
    "#post-dating 2016\n",
    "\n",
    "df.drop(df.loc[df['Crash Year'] <= 2016].index, inplace = True)\n",
    "df.rename(columns = {'Weather Conditions (2016+)': 'Weather Conditions'}, inplace = True)"
   ]
  },
  {
   "cell_type": "code",
   "execution_count": 7,
   "id": "0df85274",
   "metadata": {},
   "outputs": [],
   "source": [
    "#Remove rows where DoB is not listed\n",
    "\n",
    "df.drop(df.loc[df['Person Age'] == 'DOB invalid'].index, inplace = True)"
   ]
  },
  {
   "cell_type": "code",
   "execution_count": 8,
   "id": "c177a688",
   "metadata": {},
   "outputs": [],
   "source": [
    "#Remove rows where Speed limit was not ascertained\n",
    "\n",
    "df.drop(df.loc[df['Speed Limit at Crash Site'] == 'Uncoded & errors'].index, inplace = True)"
   ]
  },
  {
   "cell_type": "code",
   "execution_count": 9,
   "id": "47491a80",
   "metadata": {},
   "outputs": [],
   "source": [
    "#Now we will combine Crash Year, Crash Month, and Crash Day to get one clean DateTime Column\n",
    "\n",
    "cols=['Crash Year', 'Crash Month', 'Crash Day']\n",
    "df['Date'] = df[cols].apply(lambda x: '-'.join(x.values.astype(str)), axis=\"columns\")\n",
    "\n",
    "#We can then drop the previous 3 columns, as to prevent redundant data\n",
    "df.drop(['Crash Year', 'Crash Month', 'Crash Day'], axis = 1, inplace = True)"
   ]
  },
  {
   "cell_type": "code",
   "execution_count": 10,
   "id": "a54d7010",
   "metadata": {},
   "outputs": [
    {
     "data": {
      "text/html": [
       "<div>\n",
       "<style scoped>\n",
       "    .dataframe tbody tr th:only-of-type {\n",
       "        vertical-align: middle;\n",
       "    }\n",
       "\n",
       "    .dataframe tbody tr th {\n",
       "        vertical-align: top;\n",
       "    }\n",
       "\n",
       "    .dataframe thead th {\n",
       "        text-align: right;\n",
       "    }\n",
       "</style>\n",
       "<table border=\"1\" class=\"dataframe\">\n",
       "  <thead>\n",
       "    <tr style=\"text-align: right;\">\n",
       "      <th></th>\n",
       "      <th>Time of Day</th>\n",
       "      <th>Day of Week</th>\n",
       "      <th>Crash: Hit-and-Run</th>\n",
       "      <th>Lighting Conditions</th>\n",
       "      <th>Weather Conditions</th>\n",
       "      <th>Speed Limit at Crash Site</th>\n",
       "      <th>Worst Injury in Crash</th>\n",
       "      <th>Person Age</th>\n",
       "      <th>Date</th>\n",
       "    </tr>\n",
       "  </thead>\n",
       "  <tbody>\n",
       "    <tr>\n",
       "      <th>12</th>\n",
       "      <td>10:00 PM - 11:00 PM</td>\n",
       "      <td>Sunday</td>\n",
       "      <td>Not hit-and-run</td>\n",
       "      <td>Dark lighted</td>\n",
       "      <td>Clear</td>\n",
       "      <td>25</td>\n",
       "      <td>Possible injury (C)</td>\n",
       "      <td>51</td>\n",
       "      <td>2018-July-1</td>\n",
       "    </tr>\n",
       "    <tr>\n",
       "      <th>1036</th>\n",
       "      <td>12:00 AM - 1:00 AM</td>\n",
       "      <td>Sunday</td>\n",
       "      <td>Not hit-and-run</td>\n",
       "      <td>Dark lighted</td>\n",
       "      <td>Clear</td>\n",
       "      <td>40</td>\n",
       "      <td>Suspected serious injury (A)</td>\n",
       "      <td>23</td>\n",
       "      <td>2017-July-9</td>\n",
       "    </tr>\n",
       "    <tr>\n",
       "      <th>77</th>\n",
       "      <td>2:00 AM - 3:00 AM</td>\n",
       "      <td>Sunday</td>\n",
       "      <td>Not hit-and-run</td>\n",
       "      <td>Dark lighted</td>\n",
       "      <td>Clear</td>\n",
       "      <td>55</td>\n",
       "      <td>Fatal injury (K)</td>\n",
       "      <td>21</td>\n",
       "      <td>2018-March-4</td>\n",
       "    </tr>\n",
       "    <tr>\n",
       "      <th>1541</th>\n",
       "      <td>5:00 PM - 6:00 PM</td>\n",
       "      <td>Tuesday</td>\n",
       "      <td>Not hit-and-run</td>\n",
       "      <td>Dusk</td>\n",
       "      <td>Cloudy</td>\n",
       "      <td>25</td>\n",
       "      <td>Suspected serious injury (A)</td>\n",
       "      <td>16</td>\n",
       "      <td>2017-October-31</td>\n",
       "    </tr>\n",
       "    <tr>\n",
       "      <th>883</th>\n",
       "      <td>3:00 PM - 4:00 PM</td>\n",
       "      <td>Saturday</td>\n",
       "      <td>Not hit-and-run</td>\n",
       "      <td>Daylight</td>\n",
       "      <td>Clear</td>\n",
       "      <td>35</td>\n",
       "      <td>No injury (O)</td>\n",
       "      <td>55</td>\n",
       "      <td>2017-December-2</td>\n",
       "    </tr>\n",
       "    <tr>\n",
       "      <th>1019</th>\n",
       "      <td>11:00 PM - 12:00 AM</td>\n",
       "      <td>Sunday</td>\n",
       "      <td>Hit-and-run</td>\n",
       "      <td>Dark lighted</td>\n",
       "      <td>Clear</td>\n",
       "      <td>35</td>\n",
       "      <td>Suspected serious injury (A)</td>\n",
       "      <td>24</td>\n",
       "      <td>2017-April-9</td>\n",
       "    </tr>\n",
       "    <tr>\n",
       "      <th>617</th>\n",
       "      <td>9:00 PM - 10:00 PM</td>\n",
       "      <td>Thursday</td>\n",
       "      <td>Not hit-and-run</td>\n",
       "      <td>Dark lighted</td>\n",
       "      <td>Clear</td>\n",
       "      <td>40</td>\n",
       "      <td>Fatal injury (K)</td>\n",
       "      <td>82</td>\n",
       "      <td>2018-August-23</td>\n",
       "    </tr>\n",
       "    <tr>\n",
       "      <th>874</th>\n",
       "      <td>5:00 PM - 6:00 PM</td>\n",
       "      <td>Saturday</td>\n",
       "      <td>Not hit-and-run</td>\n",
       "      <td>Daylight</td>\n",
       "      <td>Cloudy</td>\n",
       "      <td>35</td>\n",
       "      <td>Suspected minor injury (B)</td>\n",
       "      <td>33</td>\n",
       "      <td>2017-September-2</td>\n",
       "    </tr>\n",
       "    <tr>\n",
       "      <th>1525</th>\n",
       "      <td>3:00 PM - 4:00 PM</td>\n",
       "      <td>Monday</td>\n",
       "      <td>Not hit-and-run</td>\n",
       "      <td>Daylight</td>\n",
       "      <td>Cloudy</td>\n",
       "      <td>25</td>\n",
       "      <td>Suspected serious injury (A)</td>\n",
       "      <td>67</td>\n",
       "      <td>2017-October-30</td>\n",
       "    </tr>\n",
       "    <tr>\n",
       "      <th>1128</th>\n",
       "      <td>12:00 PM - 1:00 PM</td>\n",
       "      <td>Thursday</td>\n",
       "      <td>Not hit-and-run</td>\n",
       "      <td>Daylight</td>\n",
       "      <td>Clear</td>\n",
       "      <td>45</td>\n",
       "      <td>Suspected minor injury (B)</td>\n",
       "      <td>23</td>\n",
       "      <td>2017-July-13</td>\n",
       "    </tr>\n",
       "  </tbody>\n",
       "</table>\n",
       "</div>"
      ],
      "text/plain": [
       "              Time of Day Day of Week Crash: Hit-and-Run Lighting Conditions  \\\n",
       "12    10:00 PM - 11:00 PM      Sunday    Not hit-and-run        Dark lighted   \n",
       "1036   12:00 AM - 1:00 AM      Sunday    Not hit-and-run        Dark lighted   \n",
       "77      2:00 AM - 3:00 AM      Sunday    Not hit-and-run        Dark lighted   \n",
       "1541    5:00 PM - 6:00 PM     Tuesday    Not hit-and-run                Dusk   \n",
       "883     3:00 PM - 4:00 PM    Saturday    Not hit-and-run            Daylight   \n",
       "1019  11:00 PM - 12:00 AM      Sunday        Hit-and-run        Dark lighted   \n",
       "617    9:00 PM - 10:00 PM    Thursday    Not hit-and-run        Dark lighted   \n",
       "874     5:00 PM - 6:00 PM    Saturday    Not hit-and-run            Daylight   \n",
       "1525    3:00 PM - 4:00 PM      Monday    Not hit-and-run            Daylight   \n",
       "1128   12:00 PM - 1:00 PM    Thursday    Not hit-and-run            Daylight   \n",
       "\n",
       "     Weather Conditions Speed Limit at Crash Site  \\\n",
       "12                Clear                        25   \n",
       "1036              Clear                        40   \n",
       "77                Clear                        55   \n",
       "1541             Cloudy                        25   \n",
       "883               Clear                        35   \n",
       "1019              Clear                        35   \n",
       "617               Clear                        40   \n",
       "874              Cloudy                        35   \n",
       "1525             Cloudy                        25   \n",
       "1128              Clear                        45   \n",
       "\n",
       "             Worst Injury in Crash Person Age              Date  \n",
       "12             Possible injury (C)         51       2018-July-1  \n",
       "1036  Suspected serious injury (A)         23       2017-July-9  \n",
       "77                Fatal injury (K)         21      2018-March-4  \n",
       "1541  Suspected serious injury (A)         16   2017-October-31  \n",
       "883                  No injury (O)         55   2017-December-2  \n",
       "1019  Suspected serious injury (A)         24      2017-April-9  \n",
       "617               Fatal injury (K)         82    2018-August-23  \n",
       "874     Suspected minor injury (B)         33  2017-September-2  \n",
       "1525  Suspected serious injury (A)         67   2017-October-30  \n",
       "1128    Suspected minor injury (B)         23      2017-July-13  "
      ]
     },
     "execution_count": 10,
     "metadata": {},
     "output_type": "execute_result"
    }
   ],
   "source": [
    "df.sample(10)"
   ]
  },
  {
   "cell_type": "code",
   "execution_count": 11,
   "id": "ca080e12",
   "metadata": {
    "scrolled": false
   },
   "outputs": [
    {
     "data": {
      "image/png": "[encoded data removed]",
      "text/plain": [
       "<Figure size 432x288 with 1 Axes>"
      ]
     },
     "metadata": {},
     "output_type": "display_data"
    }
   ],
   "source": [
    "#Accidents under different lighting conditinos\n",
    "\n",
    "colors = ['#ff9999','#66b3ff','#99ff99','#ffcc99','#EDCAFF','#c76f9a']\n",
    "df.drop(df.loc[df['Lighting Conditions'] == 'Unknown'].index, inplace = True)\n",
    "data = df['Lighting Conditions'].value_counts(normalize=True) * 100\n",
    "plt.pie(data, labels = data.index, autopct='%.1f%%',colors=colors)\n",
    "textvar = fig.text(0, 0, '')"
   ]
  },
  {
   "cell_type": "markdown",
   "id": "f715ab65",
   "metadata": {},
   "source": [
    "Contrary to what my original hypothesis was, it seems that most incidents are occuring during the day time.  Vision impairment wouldn't seem to be an issue in these accidents, aside from potentially having the sun in your eyes at a given point of time during the day."
   ]
  },
  {
   "cell_type": "code",
   "execution_count": 12,
   "id": "5eae4415",
   "metadata": {},
   "outputs": [
    {
     "data": {
      "image/png": "[encoded data removed]",
      "text/plain": [
       "<Figure size 432x288 with 1 Axes>"
      ]
     },
     "metadata": {},
     "output_type": "display_data"
    }
   ],
   "source": [
    "#Accidents occuring under different weather conditions\n",
    "\n",
    "colors = ['#ff9999','#66b3ff','#99ff99','#ffcc99','#EDCAFF','#c76f9a']\n",
    "df.drop(df.loc[df['Weather Conditions'] == 'Unknown'].index, inplace = True)\n",
    "data = df['Weather Conditions'].value_counts(normalize=True) * 100\n",
    "plt.pie(data, labels = data.index, autopct='%.1f%%',colors=colors)\n",
    "textvar = fig.text(0, 0, '')"
   ]
  },
  {
   "cell_type": "markdown",
   "id": "34fbae3e",
   "metadata": {},
   "source": [
    "Continuing the pattern of contradicting our original hypothesis, it would seem that most incidents are actually occuring in clear weather a vast majority of the time. 70% of accidents happen during clear weather versus the 15% that would occur during inclement weather such as rain or snow."
   ]
  },
  {
   "cell_type": "code",
   "execution_count": 16,
   "id": "1f0468a0",
   "metadata": {
    "scrolled": true
   },
   "outputs": [
    {
     "data": {
      "image/png": "[encoded data removed]",
      "text/plain": [
       "<Figure size 432x288 with 1 Axes>"
      ]
     },
     "metadata": {
      "needs_background": "light"
     },
     "output_type": "display_data"
    }
   ],
   "source": [
    "#Accidents caused under different speed limits\n",
    "\n",
    "order = pd.Series(df2[\"Speed Limit at Crash Site\"].unique().astype(float)).sort_values().astype(int).astype(str)\n",
    "sns.countplot(x = df2[\"Speed Limit at Crash Site\"], order = order)\n",
    "textvar = fig.text(0, 0, '')"
   ]
  },
  {
   "cell_type": "markdown",
   "id": "cbb8eb93",
   "metadata": {},
   "source": [
    "It would seem that an interesting bit of information can be attained from this graph.  The highest speeds when these incidents are occuring at 25mph and 35mph.  This would let us know that the areas in which these accidents are happening would be within city limits or more suburban areas, where speed limits would be restricted due to high foot traffic."
   ]
  },
  {
   "cell_type": "code",
   "execution_count": 20,
   "id": "3891c607",
   "metadata": {
    "scrolled": true
   },
   "outputs": [
    {
     "data": {
      "image/png": "[encoded data removed]",
      "text/plain": [
       "<Figure size 432x288 with 1 Axes>"
      ]
     },
     "metadata": {
      "needs_background": "light"
     },
     "output_type": "display_data"
    }
   ],
   "source": [
    "df2.replace({'Person Age': {'Less than 1 year old': '0'}},inplace = True)\n",
    "\n",
    "df2['Person Age'] = df2['Person Age'].astype(float)\n",
    "sns.violinplot(y=df2[\"Person Age\"], color=\"#36641e\")\n",
    "textvar = fig.text(0, 0, '')"
   ]
  },
  {
   "cell_type": "code",
   "execution_count": null,
   "id": "abfab51c",
   "metadata": {},
   "outputs": [],
   "source": []
  }
 ],
 "metadata": {
  "kernelspec": {
   "display_name": "Python 3",
   "language": "python",
   "name": "python3"
  },
  "language_info": {
   "codemirror_mode": {
    "name": "ipython",
    "version": 3
   },
   "file_extension": ".py",
   "mimetype": "text/x-python",
   "name": "python",
   "nbconvert_exporter": "python",
   "pygments_lexer": "ipython3",
   "version": "3.8.8"
  }
 },
 "nbformat": 4,
 "nbformat_minor": 5
}
